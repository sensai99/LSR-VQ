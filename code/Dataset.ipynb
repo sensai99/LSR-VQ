{
  "nbformat": 4,
  "nbformat_minor": 0,
  "metadata": {
    "colab": {
      "provenance": [],
      "collapsed_sections": [
        "veubc7lbxdlp"
      ]
    },
    "kernelspec": {
      "name": "python3",
      "display_name": "Python 3"
    },
    "language_info": {
      "name": "python"
    }
  },
  "cells": [
    {
      "cell_type": "code",
      "source": [
        "cd /content/drive/MyDrive/UMass/\"685 PROJECT\"/"
      ],
      "metadata": {
        "collapsed": true,
        "id": "-43ssCagua2f"
      },
      "execution_count": null,
      "outputs": []
    },
    {
      "cell_type": "markdown",
      "source": [
        "## Download Dataset (Don't run!!! Data is already downloaded)"
      ],
      "metadata": {
        "id": "veubc7lbxdlp"
      }
    },
    {
      "cell_type": "code",
      "execution_count": 12,
      "metadata": {
        "colab": {
          "base_uri": "https://localhost:8080/"
        },
        "collapsed": true,
        "id": "h-u-Rg2PuAc1",
        "outputId": "d3cf5e27-3b27-4926-a74b-e3fc56afcec6"
      },
      "outputs": [
        {
          "output_type": "stream",
          "name": "stdout",
          "text": [
            "--2025-03-31 19:45:49--  https://msmarco.z22.web.core.windows.net/msmarcoranking/collection.tar.gz\n",
            "Resolving msmarco.z22.web.core.windows.net (msmarco.z22.web.core.windows.net)... 20.150.34.1\n",
            "Connecting to msmarco.z22.web.core.windows.net (msmarco.z22.web.core.windows.net)|20.150.34.1|:443... connected.\n",
            "HTTP request sent, awaiting response... 200 OK\n",
            "Length: 1035009698 (987M) [application/octet-stream]\n",
            "Saving to: ‘data/collection.tar.gz’\n",
            "\n",
            "collection.tar.gz   100%[===================>] 987.06M  50.5MB/s    in 20s     \n",
            "\n",
            "2025-03-31 19:46:09 (49.1 MB/s) - ‘data/collection.tar.gz’ saved [1035009698/1035009698]\n",
            "\n"
          ]
        }
      ],
      "source": [
        "# Download collection (pId -> passage text)\n",
        "!wget -P data/raw/ https://msmarco.z22.web.core.windows.net/msmarcoranking/collection.tar.gz\n",
        "\n",
        "# Download queries (qId -> query text)\n",
        "!wget -P data/raw/ https://msmarco.z22.web.core.windows.net/msmarcoranking/queries.tar.gz\n",
        "\n",
        "# Download qRels Dev and Train\n",
        "!wget -P data/raw/ https://msmarco.z22.web.core.windows.net/msmarcoranking/qrels.dev.tsv\n",
        "!wget -P data/raw/ https://msmarco.z22.web.core.windows.net/msmarcoranking/qrels.train.tsv\n",
        "\n",
        "# Download training data - qId positive_pId and negative_pId\n",
        "!wget -P data/raw/ https://msmarco.z22.web.core.windows.net/msmarcoranking/qidpidtriples.train.full.2.tsv.gz"
      ]
    },
    {
      "cell_type": "code",
      "source": [
        "# unzip files\n",
        "!tar -xf \"data/raw/queries.tar.gz\"\n",
        "!tar -xf \"data/raw/collection.tar.gz\"\n",
        "!tar -xf \"data/raw/qidpidtriples.train.full.2.tsv.gz\""
      ],
      "metadata": {
        "colab": {
          "base_uri": "https://localhost:8080/"
        },
        "id": "FxkrklhEyVdm",
        "outputId": "3e7eac4b-9ba9-4692-9e69-58017a15f3a5"
      },
      "execution_count": 43,
      "outputs": [
        {
          "output_type": "stream",
          "name": "stdout",
          "text": [
            "\u001b[0m\u001b[01;34mraw\u001b[0m/\n"
          ]
        }
      ]
    },
    {
      "cell_type": "markdown",
      "source": [
        "## Dataset"
      ],
      "metadata": {
        "id": "gMYgXkrF1mZe"
      }
    },
    {
      "cell_type": "code",
      "source": [
        "import pandas as pd\n",
        "import csv"
      ],
      "metadata": {
        "id": "TuqmlacdxLBH"
      },
      "execution_count": 53,
      "outputs": []
    },
    {
      "cell_type": "code",
      "source": [
        "# Read the tsv file as a dictionary\n",
        "def open_file(file_path, keys = [0, 1]):\n",
        "    with open(file_path, mode = \"r\", encoding = \"utf-8\") as file:\n",
        "        reader = csv.reader(file, delimiter= \"\\t\")\n",
        "        data = {row[keys[0]]: row[keys[1]] for row in reader}\n",
        "\n",
        "    return data\n",
        "\n",
        "# Load and preprocess the dataset\n",
        "def load_and_preprocess_dataset():\n",
        "    # Load all passages\n",
        "    passages = open_file(\"data/collection.tsv\")\n",
        "\n",
        "    # Load all train, dev & eval queries\n",
        "    queries_train = open_file(\"data/queries.train.tsv\")\n",
        "    queries_dev = open_file(\"data/queries.dev.tsv\")\n",
        "    queries_eval = open_file(\"data/queries.eval.tsv\")\n",
        "\n",
        "    # Load qRels train & dev\n",
        "    # These only have relevant files i.e binary relevance judgment score\n",
        "    # will be 1 for all the entries\n",
        "    qrels_train = open_file(\"data/qrels.train.tsv\", keys = [0, 2])\n",
        "    qrels_dev = open_file(\"data/qrels.dev.tsv\", keys = [0, 2])\n",
        "\n",
        "    return passages, queries_train, queries_dev, queries_eval, qrels_train, qrels_dev"
      ],
      "metadata": {
        "id": "RpxJZ9wGyKek"
      },
      "execution_count": 77,
      "outputs": []
    },
    {
      "cell_type": "code",
      "source": [
        "passages, queries_train, queries_dev, queries_eval, qrels_train, qrels_dev = load_and_preprocess_dataset()"
      ],
      "metadata": {
        "id": "HzO5njB46uFi"
      },
      "execution_count": 78,
      "outputs": []
    },
    {
      "cell_type": "code",
      "source": [
        "def print_samples(file_name, dict_, n = 2):\n",
        "    print('-' * 15)\n",
        "    print(f'Samples for {file_name}:')\n",
        "    samples = list(dict_.items())[:2]\n",
        "    for entry in samples:\n",
        "        print(entry)\n",
        "\n",
        "print_samples(\"passages\", passages)\n",
        "print_samples(\"queries_train\", queries_train)\n",
        "print_samples(\"queries_dev\", queries_dev)\n",
        "print_samples(\"queries_eval\", queries_eval)\n",
        "print_samples(\"qrels_train\", qrels_train)\n",
        "print_samples(\"qrels_dev\", qrels_dev)"
      ],
      "metadata": {
        "colab": {
          "base_uri": "https://localhost:8080/"
        },
        "id": "lpvNh0BW60C9",
        "outputId": "2c6d7254-8aff-44aa-d367-bb6ab844ed80"
      },
      "execution_count": 79,
      "outputs": [
        {
          "output_type": "stream",
          "name": "stdout",
          "text": [
            "---------------\n",
            "Samples for passages:\n",
            "('0', 'The presence of communication amid scientific minds was equally important to the success of the Manhattan Project as scientific intellect was. The only cloud hanging over the impressive achievement of the atomic researchers and engineers is what their success truly meant; hundreds of thousands of innocent lives obliterated.')\n",
            "('1', 'The Manhattan Project and its atomic bomb helped bring an end to World War II. Its legacy of peaceful uses of atomic energy continues to have an impact on history and science.')\n",
            "---------------\n",
            "Samples for queries_train:\n",
            "('121352', 'define extreme')\n",
            "('634306', 'what does chattel mean on credit history')\n",
            "---------------\n",
            "Samples for queries_dev:\n",
            "('1048578', 'cost of endless pools/swim spa')\n",
            "('1048579', 'what is pcnt')\n",
            "---------------\n",
            "Samples for queries_eval:\n",
            "('786436', 'what is prescribed to treat thyroid storm')\n",
            "('9', ' Refer to the data. Diminishing returns begin to occur with the hiring of the _________ unit of labor ')\n",
            "---------------\n",
            "Samples for qrels_train:\n",
            "('1185869', '0')\n",
            "('1185868', '16')\n",
            "---------------\n",
            "Samples for qrels_dev:\n",
            "('1102432', '2026790')\n",
            "('1102431', '7066867')\n"
          ]
        }
      ]
    },
    {
      "cell_type": "code",
      "source": [],
      "metadata": {
        "id": "BpPJkTlR9RPt"
      },
      "execution_count": null,
      "outputs": []
    }
  ]
}